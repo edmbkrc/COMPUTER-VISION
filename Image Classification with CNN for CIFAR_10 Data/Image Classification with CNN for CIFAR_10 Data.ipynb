{
 "cells": [
  {
   "cell_type": "markdown",
   "id": "c164c7ea",
   "metadata": {},
   "source": [
    "# Image Classification with CNN for CIFAR_10 Data"
   ]
  },
  {
   "cell_type": "markdown",
   "id": "9f533489",
   "metadata": {},
   "source": [
    "<img src=\"https://miro.medium.com/v2/resize:fit:1400/0*q_G_SgrmgJpExutm.jpg\" width=600>"
   ]
  },
  {
   "cell_type": "markdown",
   "id": "19c1f705",
   "metadata": {},
   "source": [
    "### Problem Definition:"
   ]
  },
  {
   "cell_type": "markdown",
   "id": "69bba1f5",
   "metadata": {},
   "source": [
    "### Given an image, can we predict the correct class of this image?\n",
    "\n",
    "The images are very small (32x32) and by visualizing them you will notice how difficult it is to distinguish them even for a human.\n",
    "\n",
    "In this notebook we are going to build a CNN model that can classify images of various objects. We have 10 class of images:\n",
    "\n",
    "1. Airplane\n",
    "2. Automobile\n",
    "3. Bird\n",
    "4. Cat\n",
    "5. Deer\n",
    "6. Dog\n",
    "7. Frog\n",
    "8. Horse\n",
    "9. Ship\n",
    "10. Truck"
   ]
  },
  {
   "cell_type": "code",
   "execution_count": 2,
   "id": "9ff40e2f",
   "metadata": {},
   "outputs": [
    {
     "name": "stdout",
     "output_type": "stream",
     "text": [
      "WARNING:tensorflow:From C:\\Users\\admcn\\anaconda3\\Lib\\site-packages\\keras\\src\\losses.py:2976: The name tf.losses.sparse_softmax_cross_entropy is deprecated. Please use tf.compat.v1.losses.sparse_softmax_cross_entropy instead.\n",
      "\n"
     ]
    }
   ],
   "source": [
    "import pandas as pd\n",
    "import numpy as np\n",
    "import matplotlib.pyplot as plt\n",
    "%matplotlib inline\n",
    "\n",
    "import tensorflow as tf\n",
    "from tensorflow.keras.datasets import cifar10\n",
    "\n",
    "from tensorflow.keras.models import Sequential\n",
    "from tensorflow.keras.layers import Dense, Conv2D, MaxPool2D, Flatten, Dropout, BatchNormalization\n",
    "from tensorflow.keras.callbacks import EarlyStopping"
   ]
  },
  {
   "cell_type": "code",
   "execution_count": 3,
   "id": "e8ed83bd",
   "metadata": {},
   "outputs": [],
   "source": [
    "(x_train, y_train), (x_test, y_test) = cifar10.load_data()"
   ]
  },
  {
   "cell_type": "code",
   "execution_count": 3,
   "id": "bb70c164",
   "metadata": {},
   "outputs": [
    {
     "name": "stdout",
     "output_type": "stream",
     "text": [
      "x_train shape: (50000, 32, 32, 3)\n",
      "y_train shape: (50000, 1)\n",
      "x_test shape: (10000, 32, 32, 3)\n",
      "y_test shape (10000, 1)\n"
     ]
    }
   ],
   "source": [
    "print(f\"x_train shape: {x_train.shape}\\ny_train shape: {y_train.shape}\\nx_test shape: {x_test.shape}\\ny_test shape {y_test.shape}\")"
   ]
  },
  {
   "cell_type": "code",
   "execution_count": 4,
   "id": "ec21ff67",
   "metadata": {},
   "outputs": [
    {
     "data": {
      "image/png": "[encoded data removed]",
      "text/plain": [
       "<Figure size 640x480 with 1 Axes>"
      ]
     },
     "metadata": {},
     "output_type": "display_data"
    }
   ],
   "source": [
    "plt.imshow(x_train[3]);"
   ]
  },
  {
   "cell_type": "code",
   "execution_count": 5,
   "id": "ad582501",
   "metadata": {},
   "outputs": [
    {
     "data": {
      "text/plain": [
       "array([4], dtype=uint8)"
      ]
     },
     "execution_count": 5,
     "metadata": {},
     "output_type": "execute_result"
    }
   ],
   "source": [
    "y_train[3]"
   ]
  },
  {
   "cell_type": "markdown",
   "id": "b0e21ab0",
   "metadata": {},
   "source": [
    "### Normalize Data"
   ]
  },
  {
   "cell_type": "markdown",
   "id": "9d33fba8",
   "metadata": {},
   "source": [
    "<img src=\"https://cdn.educba.com/academy/wp-content/uploads/2019/05/Normalization-Formula.jpg\" width=600>"
   ]
  },
  {
   "cell_type": "code",
   "execution_count": 4,
   "id": "1de5e299",
   "metadata": {},
   "outputs": [],
   "source": [
    "x_train = x_train / 255.0\n",
    "x_test = x_test / 255.0"
   ]
  },
  {
   "cell_type": "markdown",
   "id": "62e1ef82",
   "metadata": {},
   "source": [
    "### Convolutional Neural Networks---CNNs---Image Classification"
   ]
  },
  {
   "cell_type": "code",
   "execution_count": 5,
   "id": "3a4c1ae2",
   "metadata": {},
   "outputs": [],
   "source": [
    "from tensorflow.keras.models import Sequential\n",
    "from tensorflow.keras.layers import Dense, Conv2D, InputLayer, Reshape, MaxPooling2D, Flatten, Dropout, BatchNormalization"
   ]
  },
  {
   "cell_type": "code",
   "execution_count": 7,
   "id": "6a098e69",
   "metadata": {},
   "outputs": [],
   "source": [
    "#to construct the CNN model layer by layer.\n",
    "model = Sequential() \n",
    "#model expects input images to be of size 32x32 pixels with 3 color channels (e.g., RGB).\n",
    "model.add(InputLayer(input_shape=(32,32,3))) \n",
    "model.add(Reshape(target_shape=(32,32,3))) \n",
    "#adds a convolutional layer with 32 filters (or kernels) each of size 3x3 pixels\n",
    "#ReLU (Rectified Linear Unit), which introduces non-linearity to the model, \n",
    "#allowing it to learn more complex patterns in the data. \n",
    "model.add(Conv2D(filters=32, kernel_size=(3,3),activation=\"relu\",padding='same')) \n",
    "model.add(BatchNormalization())\n",
    "model.add(Conv2D(filters=32, kernel_size=(3,3),activation=\"relu\",padding='same'))\n",
    "model.add(BatchNormalization())\n",
    "model.add(MaxPooling2D(pool_size=(2,2))) #taking the maximum value over a 2x2 pooling window.\n",
    "model.add(Dropout(.20))\n",
    "\n",
    "model.add(Conv2D(filters=64, kernel_size=(3,3),activation=\"relu\", padding='same')) \n",
    "model.add(BatchNormalization())\n",
    "model.add(Conv2D(filters=64, kernel_size=(3,3),activation=\"relu\", padding='same'))\n",
    "model.add(BatchNormalization())\n",
    "model.add(MaxPooling2D(pool_size=(2,2)))\n",
    "model.add(Dropout(.20))\n",
    "\n",
    "model.add(Conv2D(filters=128, kernel_size=(3,3),activation=\"relu\", padding='same')) \n",
    "model.add(BatchNormalization())\n",
    "model.add(Conv2D(filters=128, kernel_size=(3,3),activation=\"relu\", padding='same'))\n",
    "model.add(BatchNormalization())\n",
    "model.add(MaxPooling2D(pool_size=(2,2)))\n",
    "model.add(Dropout(.20))\n",
    "\n",
    "#converts the 2D matrix data to a vector\n",
    "model.add(Flatten())  \n",
    "\n",
    "#normalizes the activations of the previous layer at each batch, accelerates training and can lead to faster convergence.\n",
    "model.add(BatchNormalization())\n",
    "model.add(Dense(120))\n",
    "model.add(BatchNormalization())\n",
    "model.add(Dense(80))\n",
    "model.add(BatchNormalization())\n",
    "model.add(Dense(60))\n",
    "model.add(BatchNormalization())\n",
    "model.add(Dense(30))\n",
    "model.add(BatchNormalization())\n",
    "model.add(Dense(20))\n",
    "model.add(Dropout(.20))\n",
    "model.add(Dense(10))\n",
    "\n",
    "#Crossentropy is suitable for multi-class classification tasks where the labels are integers.\n",
    "model.compile(optimizer=\"adam\", loss=tf.keras.losses.SparseCategoricalCrossentropy(from_logits=True), metrics=[\"accuracy\"])\n"
   ]
  },
  {
   "cell_type": "code",
   "execution_count": 13,
   "id": "dbaf777f",
   "metadata": {
    "scrolled": true
   },
   "outputs": [
    {
     "name": "stdout",
     "output_type": "stream",
     "text": [
      "Epoch 1/10\n",
      "1407/1407 [==============================] - 43s 28ms/step - loss: 1.3907 - accuracy: 0.4993 - val_loss: 0.9961 - val_accuracy: 0.6526\n",
      "Epoch 2/10\n",
      "1407/1407 [==============================] - 41s 29ms/step - loss: 0.9737 - accuracy: 0.6620 - val_loss: 1.0298 - val_accuracy: 0.6532\n",
      "Epoch 3/10\n",
      "1407/1407 [==============================] - 41s 29ms/step - loss: 0.8329 - accuracy: 0.7136 - val_loss: 0.6705 - val_accuracy: 0.7704\n",
      "Epoch 4/10\n",
      "1407/1407 [==============================] - 40s 28ms/step - loss: 0.7379 - accuracy: 0.7466 - val_loss: 0.6926 - val_accuracy: 0.7654\n",
      "Epoch 5/10\n",
      "1407/1407 [==============================] - 40s 29ms/step - loss: 0.6600 - accuracy: 0.7751 - val_loss: 0.8287 - val_accuracy: 0.7186\n",
      "Epoch 6/10\n",
      "1407/1407 [==============================] - 43s 30ms/step - loss: 0.6163 - accuracy: 0.7892 - val_loss: 0.5421 - val_accuracy: 0.8126\n",
      "Epoch 7/10\n",
      "1407/1407 [==============================] - 41s 29ms/step - loss: 0.5666 - accuracy: 0.8044 - val_loss: 0.6934 - val_accuracy: 0.7720\n",
      "Epoch 8/10\n",
      "1407/1407 [==============================] - 41s 29ms/step - loss: 0.5340 - accuracy: 0.8182 - val_loss: 0.5431 - val_accuracy: 0.8152\n",
      "Epoch 9/10\n",
      "1407/1407 [==============================] - 43s 30ms/step - loss: 0.5055 - accuracy: 0.8270 - val_loss: 0.4907 - val_accuracy: 0.8344\n",
      "Epoch 10/10\n",
      "1407/1407 [==============================] - 41s 29ms/step - loss: 0.4742 - accuracy: 0.8382 - val_loss: 0.5223 - val_accuracy: 0.8290\n"
     ]
    }
   ],
   "source": [
    "history = model.fit(x_train, y_train, validation_split=.10, epochs=10, batch_size=32)"
   ]
  },
  {
   "cell_type": "code",
   "execution_count": 14,
   "id": "ebc984e1",
   "metadata": {
    "collapsed": true,
    "jupyter": {
     "outputs_hidden": true
    }
   },
   "outputs": [
    {
     "name": "stdout",
     "output_type": "stream",
     "text": [
      "Model: \"sequential_2\"\n",
      "_________________________________________________________________\n",
      " Layer (type)                Output Shape              Param #   \n",
      "=================================================================\n",
      " reshape_2 (Reshape)         (None, 32, 32, 3)         0         \n",
      "                                                                 \n",
      " conv2d_12 (Conv2D)          (None, 32, 32, 32)        896       \n",
      "                                                                 \n",
      " batch_normalization_22 (Ba  (None, 32, 32, 32)        128       \n",
      " tchNormalization)                                               \n",
      "                                                                 \n",
      " conv2d_13 (Conv2D)          (None, 32, 32, 32)        9248      \n",
      "                                                                 \n",
      " batch_normalization_23 (Ba  (None, 32, 32, 32)        128       \n",
      " tchNormalization)                                               \n",
      "                                                                 \n",
      " max_pooling2d_6 (MaxPoolin  (None, 16, 16, 32)        0         \n",
      " g2D)                                                            \n",
      "                                                                 \n",
      " dropout_8 (Dropout)         (None, 16, 16, 32)        0         \n",
      "                                                                 \n",
      " conv2d_14 (Conv2D)          (None, 16, 16, 64)        18496     \n",
      "                                                                 \n",
      " batch_normalization_24 (Ba  (None, 16, 16, 64)        256       \n",
      " tchNormalization)                                               \n",
      "                                                                 \n",
      " conv2d_15 (Conv2D)          (None, 16, 16, 64)        36928     \n",
      "                                                                 \n",
      " batch_normalization_25 (Ba  (None, 16, 16, 64)        256       \n",
      " tchNormalization)                                               \n",
      "                                                                 \n",
      " max_pooling2d_7 (MaxPoolin  (None, 8, 8, 64)          0         \n",
      " g2D)                                                            \n",
      "                                                                 \n",
      " dropout_9 (Dropout)         (None, 8, 8, 64)          0         \n",
      "                                                                 \n",
      " conv2d_16 (Conv2D)          (None, 8, 8, 128)         73856     \n",
      "                                                                 \n",
      " batch_normalization_26 (Ba  (None, 8, 8, 128)         512       \n",
      " tchNormalization)                                               \n",
      "                                                                 \n",
      " conv2d_17 (Conv2D)          (None, 8, 8, 128)         147584    \n",
      "                                                                 \n",
      " batch_normalization_27 (Ba  (None, 8, 8, 128)         512       \n",
      " tchNormalization)                                               \n",
      "                                                                 \n",
      " max_pooling2d_8 (MaxPoolin  (None, 4, 4, 128)         0         \n",
      " g2D)                                                            \n",
      "                                                                 \n",
      " dropout_10 (Dropout)        (None, 4, 4, 128)         0         \n",
      "                                                                 \n",
      " flatten_2 (Flatten)         (None, 2048)              0         \n",
      "                                                                 \n",
      " batch_normalization_28 (Ba  (None, 2048)              8192      \n",
      " tchNormalization)                                               \n",
      "                                                                 \n",
      " dense_12 (Dense)            (None, 120)               245880    \n",
      "                                                                 \n",
      " batch_normalization_29 (Ba  (None, 120)               480       \n",
      " tchNormalization)                                               \n",
      "                                                                 \n",
      " dense_13 (Dense)            (None, 80)                9680      \n",
      "                                                                 \n",
      " batch_normalization_30 (Ba  (None, 80)                320       \n",
      " tchNormalization)                                               \n",
      "                                                                 \n",
      " dense_14 (Dense)            (None, 60)                4860      \n",
      "                                                                 \n",
      " batch_normalization_31 (Ba  (None, 60)                240       \n",
      " tchNormalization)                                               \n",
      "                                                                 \n",
      " dense_15 (Dense)            (None, 30)                1830      \n",
      "                                                                 \n",
      " batch_normalization_32 (Ba  (None, 30)                120       \n",
      " tchNormalization)                                               \n",
      "                                                                 \n",
      " dense_16 (Dense)            (None, 20)                620       \n",
      "                                                                 \n",
      " dropout_11 (Dropout)        (None, 20)                0         \n",
      "                                                                 \n",
      " dense_17 (Dense)            (None, 10)                210       \n",
      "                                                                 \n",
      "=================================================================\n",
      "Total params: 561232 (2.14 MB)\n",
      "Trainable params: 555660 (2.12 MB)\n",
      "Non-trainable params: 5572 (21.77 KB)\n",
      "_________________________________________________________________\n"
     ]
    }
   ],
   "source": [
    "model.summary()"
   ]
  },
  {
   "cell_type": "code",
   "execution_count": 15,
   "id": "20d00e79",
   "metadata": {},
   "outputs": [
    {
     "name": "stdout",
     "output_type": "stream",
     "text": [
      "313/313 [==============================] - 2s 8ms/step - loss: 0.5421 - accuracy: 0.8183\n",
      "ACCURACY: % 81.83\n",
      "LOSS:  0.542\n"
     ]
    }
   ],
   "source": [
    "loss, accuracy = model.evaluate(x_test, y_test)\n",
    "print(f\"ACCURACY: % {round(accuracy*100,3)}\\nLOSS:  {round(loss,3)}\")"
   ]
  },
  {
   "cell_type": "code",
   "execution_count": 16,
   "id": "9d10a217",
   "metadata": {},
   "outputs": [
    {
     "data": {
      "image/png": "[encoded data removed]",
      "text/plain": [
       "<Figure size 640x480 with 1 Axes>"
      ]
     },
     "metadata": {},
     "output_type": "display_data"
    }
   ],
   "source": [
    "plt.plot(history.history[\"accuracy\"], label=\"ACCURACY\")\n",
    "plt.plot(history.history[\"val_accuracy\"], label=\"VALIDATION ACCURACY\")\n",
    "plt.legend();"
   ]
  }
 ],
 "metadata": {
  "kernelspec": {
   "display_name": "Python 3 (ipykernel)",
   "language": "python",
   "name": "python3"
  },
  "language_info": {
   "codemirror_mode": {
    "name": "ipython",
    "version": 3
   },
   "file_extension": ".py",
   "mimetype": "text/x-python",
   "name": "python",
   "nbconvert_exporter": "python",
   "pygments_lexer": "ipython3",
   "version": "3.11.7"
  },
  "widgets": {
   "application/vnd.jupyter.widget-state+json": {
    "state": {},
    "version_major": 2,
    "version_minor": 0
   }
  }
 },
 "nbformat": 4,
 "nbformat_minor": 5
}
